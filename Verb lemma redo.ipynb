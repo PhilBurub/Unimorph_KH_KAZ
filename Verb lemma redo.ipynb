{
 "cells": [
  {
   "cell_type": "code",
   "execution_count": 1,
   "id": "3fc090f8",
   "metadata": {},
   "outputs": [],
   "source": [
    "import pandas as pd\n",
    "import numpy as np"
   ]
  },
  {
   "cell_type": "code",
   "execution_count": 2,
   "id": "d1e89e2d",
   "metadata": {},
   "outputs": [],
   "source": [
    "df = pd.read_csv('Unified.tsv', sep='\\t', names=['lemma', 'wordform', 'tags'])\n",
    "df['tags'] = df['tags'].apply(lambda x: x.split(';') if type(x) == str else x)"
   ]
  },
  {
   "cell_type": "code",
   "execution_count": 3,
   "id": "63297e20",
   "metadata": {},
   "outputs": [],
   "source": [
    "dct = pd.read_csv('Dictionary.csv', names=['lemma', 'reverse'])\n",
    "lemmas = dct.lemma.apply(lambda x: x.replace('ä', 'ă').strip())\n",
    "\n",
    "add = []\n",
    "for lemma in lemmas:\n",
    "    for item in lemma.split(' '):\n",
    "        add.append(item.strip())\n",
    "\n",
    "add.extend(lemmas)\n",
    "lemmaset = set(add)\n",
    "with open('LemmaSet.tsv', 'w', encoding='utf-8') as f:\n",
    "    f.write('\\n'.join(sorted(lemmaset)))"
   ]
  },
  {
   "cell_type": "code",
   "execution_count": 4,
   "id": "7e090cd8",
   "metadata": {},
   "outputs": [],
   "source": [
    "def lemmatize(arr):\n",
    "    for i in range(len(arr)):\n",
    "        if type(arr[i][2]) == list and 'V' in arr[i][2] and type(arr[i][0]) == str:\n",
    "            if arr[i][0] + 'ti' in lemmaset:\n",
    "                arr[i][0] += 'ti'\n",
    "            elif arr[i][0] + 'i' in lemmaset:\n",
    "                arr[i][0] += 'i'\n",
    "    return arr            "
   ]
  },
  {
   "cell_type": "code",
   "execution_count": 5,
   "id": "00f84688",
   "metadata": {},
   "outputs": [],
   "source": [
    "df['lemma'] = lemmatize(df.to_numpy())[:,0]"
   ]
  },
  {
   "cell_type": "code",
   "execution_count": 6,
   "id": "fe509879",
   "metadata": {},
   "outputs": [],
   "source": [
    "writerows = []\n",
    "for row in df.to_numpy():\n",
    "    text = ''\n",
    "    if type(row[0]) == str:\n",
    "        text += row[0]\n",
    "    text += '\\t' + row[1] + '\\t'\n",
    "    if type(row[2]) == list:\n",
    "        text += ';'.join(row[2])\n",
    "    writerows.append(text)"
   ]
  },
  {
   "cell_type": "code",
   "execution_count": 7,
   "id": "ad6e5301",
   "metadata": {},
   "outputs": [],
   "source": [
    "with open('Prep.tsv', 'w', encoding='utf-8') as f:\n",
    "    f.write('\\n'.join(sorted(set(writerows))))"
   ]
  }
 ],
 "metadata": {
  "kernelspec": {
   "display_name": "Python 3 (ipykernel)",
   "language": "python",
   "name": "python3"
  },
  "language_info": {
   "codemirror_mode": {
    "name": "ipython",
    "version": 3
   },
   "file_extension": ".py",
   "mimetype": "text/x-python",
   "name": "python",
   "nbconvert_exporter": "python",
   "pygments_lexer": "ipython3",
   "version": "3.9.12"
  }
 },
 "nbformat": 4,
 "nbformat_minor": 5
}
