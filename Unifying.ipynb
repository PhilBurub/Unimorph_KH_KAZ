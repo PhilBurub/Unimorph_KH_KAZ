{
 "cells": [
  {
   "cell_type": "code",
   "execution_count": 1,
   "id": "e87f115f",
   "metadata": {},
   "outputs": [],
   "source": [
    "import pandas as pd\n",
    "import numpy as np\n",
    "import re"
   ]
  },
  {
   "cell_type": "code",
   "execution_count": 2,
   "id": "2acd7068",
   "metadata": {},
   "outputs": [],
   "source": [
    "uniset = pd.read_csv(\"Universal set of tags.csv\")\n",
    "kaz2uni = {i[0]: i[1] for i in uniset[['Kazym FW', 'UniMorph']].dropna().values}\n",
    "wes2uni = {i[0]: i[1] for i in uniset[['Western FW', 'UniMorph']].dropna().values}\n",
    "web2uni = {i[0]: i[1] for i in uniset[['website', 'UniMorph']].dropna().values}"
   ]
  },
  {
   "cell_type": "code",
   "execution_count": 3,
   "id": "fe2426cb",
   "metadata": {},
   "outputs": [],
   "source": [
    "def unify(file, dct):\n",
    "    with open(file, 'r', encoding='utf-8') as f:\n",
    "        rows = []\n",
    "        for row in f.read().split('\\n'):\n",
    "            tags = row.split('\\t')[2].split(';')\n",
    "\n",
    "            unitags = [dct[tag] for tag in tags if tag]\n",
    "            while '-' in unitags:\n",
    "                unitags.remove('-')\n",
    "\n",
    "            if ('V.PTCP;PST' in unitags or 'V.PTCP;PRS' in unitags or 'V.CVB' in unitags) and 'V' in unitags:\n",
    "                unitags.remove('V')\n",
    "\n",
    "            poss = np.vectorize(lambda x: x[:3] == 'PSS')\n",
    "            if 'V' in unitags and any(poss(np.array(unitags))):\n",
    "                wrong = unitags[poss(np.array(unitags)).argmax()]\n",
    "                unitags[poss(np.array(unitags)).argmax()] = f'ARGNO{wrong[-2]};ARGNO{wrong[-1]}'\n",
    "\n",
    "            if 'V' in unitags and 'PL' in unitags:\n",
    "                unitags.remove('PL')\n",
    "                unitags.append('ARGNO3;ARGNOP')\n",
    "            \n",
    "            arg = np.vectorize(lambda x: x[:3] == 'ARG')\n",
    "            if 'V' in unitags and not any(arg(np.array(unitags))):\n",
    "                unitags.append('ARGNO3;ARGNOS')\n",
    "            \n",
    "            if 'V.PTCP;PST' in unitags and any(poss(np.array(unitags))):\n",
    "                unitags.remove('V.PTCP;PST')\n",
    "                unitags.insert(0, 'V;PST')\n",
    "                wrong = unitags[poss(np.array(unitags)).argmax()]\n",
    "                unitags[poss(np.array(unitags)).argmax()] = f'INFER;ARGNO{wrong[-2]};ARGNO{wrong[-1]}'\n",
    "            \n",
    "            if 'V.PTCP;PRS' in unitags and any(poss(np.array(unitags))):\n",
    "                unitags.remove('V.PTCP;PRS')\n",
    "                unitags.insert(0, 'V;PRS')\n",
    "                wrong = unitags[poss(np.array(unitags)).argmax()]\n",
    "                unitags[poss(np.array(unitags)).argmax()] = f'INFER;ARGNO{wrong[-2]};ARGNO{wrong[-1]}'\n",
    "            \n",
    "            if 'N' in unitags and 'ADJ' in unitags:\n",
    "                unitags.remove('N')\n",
    "            \n",
    "            if 'N' in unitags and any(arg(np.array(unitags))):\n",
    "                wrong = unitags[arg(np.array(unitags)).argmax()]\n",
    "                unitags[arg(np.array(unitags)).argmax()] = f'PSS{wrong[5]}{wrong[12]}'\n",
    "\n",
    "            if ('N' in unitags or 'PRO' in unitags) and ('DAT' not in unitags and 'LOC' not in unitags and 'ACC' not in unitags):\n",
    "                unitags.append('NOM')\n",
    "\n",
    "            if ('N' in unitags or 'PRO' in unitags) and 'PL' not in unitags:\n",
    "                unitags.append('SG')\n",
    "\n",
    "            if 'NUM' in unitags and 'ADJ' in unitags:\n",
    "                unitags.remove('NUM')\n",
    "            \n",
    "            if 'ADV' in unitags and 'ADJ' in unitags:\n",
    "                unitags.remove('ADV')\n",
    "\n",
    "            tagstring = ';'.join(unitags)\n",
    "            rows.append(row.split(\"\\t\")[0]+'\\t'+row.split(\"\\t\")[1]+'\\t'+tagstring)\n",
    "    return rows"
   ]
  },
  {
   "cell_type": "code",
   "execution_count": 4,
   "id": "ce423f57",
   "metadata": {},
   "outputs": [],
   "source": [
    "Unified = unify('Kaz_fw.xml_unidraft.tsv', kaz2uni)\n",
    "Unified.extend(unify('Wes_fw.xml_unidraft.tsv', wes2uni))\n",
    "Unified.extend(unify('website_unidraft.tsv', web2uni))"
   ]
  },
  {
   "cell_type": "code",
   "execution_count": 5,
   "id": "61783fa6",
   "metadata": {},
   "outputs": [],
   "source": [
    "with open('Unified.tsv', 'w', encoding='utf-8') as f:\n",
    "    f.write('\\n'.join(sorted(set(Unified))))"
   ]
  }
 ],
 "metadata": {
  "kernelspec": {
   "display_name": "Python 3 (ipykernel)",
   "language": "python",
   "name": "python3"
  },
  "language_info": {
   "codemirror_mode": {
    "name": "ipython",
    "version": 3
   },
   "file_extension": ".py",
   "mimetype": "text/x-python",
   "name": "python",
   "nbconvert_exporter": "python",
   "pygments_lexer": "ipython3",
   "version": "3.9.12"
  }
 },
 "nbformat": 4,
 "nbformat_minor": 5
}
