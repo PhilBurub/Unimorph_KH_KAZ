{
 "cells": [
  {
   "cell_type": "markdown",
   "id": "7b4b747b",
   "metadata": {},
   "source": [
    "Turning FW's Verifiable Generic XML output into UniMorph-like columns"
   ]
  },
  {
   "cell_type": "markdown",
   "id": "26fe30d1",
   "metadata": {},
   "source": [
    "Triplet structure:<br>\n",
    "lemma  |  word_form  |  pos;other_tags"
   ]
  },
  {
   "cell_type": "code",
   "execution_count": 16,
   "id": "4167283f",
   "metadata": {},
   "outputs": [],
   "source": [
    "from bs4 import BeautifulSoup"
   ]
  },
  {
   "cell_type": "markdown",
   "id": "f8f5f85b",
   "metadata": {},
   "source": [
    "# Kh"
   ]
  },
  {
   "cell_type": "code",
   "execution_count": 17,
   "id": "34d8bd26",
   "metadata": {},
   "outputs": [],
   "source": [
    "def xml2triplet_kaz(filename):\n",
    "    \n",
    "    with open(filename, 'r', encoding='utf-8') as f: # reading the FW output XML file\n",
    "        content = f.read()\n",
    "    \n",
    "    tree = BeautifulSoup(content, 'xml') # parsing via BS\n",
    "    \n",
    "    triplets = []\n",
    "    \n",
    "    for sent in tree.find_all('words'): # finding sentences\n",
    "        for word in sent.find_all('word'): #finding words\n",
    "            if word.find('item').attrs['type'] == 'punct': # skipping punctuation\n",
    "                continue\n",
    "                \n",
    "            word_form = word.find('item', {'type': 'txt', 'lang': 'kca'}).text # finding the wordform\n",
    "            \n",
    "            if not word.find('morphemes'):\n",
    "                triplets.append({'lemma': '', 'word_form': word_form, 'tags': ''})\n",
    "                continue\n",
    "            \n",
    "            pos = word.find('item', {'type': 'pos'}) # looking for POS marker, if unsuccesfully - leaving it blank\n",
    "            if pos:\n",
    "                   tags = [word.find('item', {'type': 'pos'}).text]\n",
    "            else:\n",
    "                   tags = []\n",
    "            morphology = word.find('morphemes') # finding morphemes\n",
    "            for morpheme in morphology.find_all('morph'):\n",
    "                if morpheme.attrs and morpheme.attrs['type'] in ['circumfix', 'prefix', 'suffix', 'enclitic']: \n",
    "                    # affix glosses are taken as tags\n",
    "                    gloss = morpheme.find('item', {'type': 'gls'})\n",
    "                    if gloss:\n",
    "                        tags.append(gloss.text)\n",
    "                else:\n",
    "                    # stems are taken as lemmas\n",
    "                    lemma = morpheme.find('item', {'type': 'txt'}).text\n",
    "                    \n",
    "            triplets.append({'lemma': lemma, 'word_form': word_form, 'tags': ';'.join(tags)}) # forming a dictionary\n",
    "    # turning a list of dicts into the set of rows appropriate for UniMorph tagging\n",
    "    Unique_rows = {f\"{triplet['lemma']}\\t{triplet['word_form']}\\t{triplet['tags']}\" for triplet in triplets}\n",
    "    \n",
    "    with open(f'{filename}_unidraft.tsv', 'w', encoding='utf-8') as f: # creating a file with the result\n",
    "        f.write('\\n'.join(sorted(Unique_rows)))"
   ]
  },
  {
   "cell_type": "code",
   "execution_count": 18,
   "id": "b3047fab",
   "metadata": {},
   "outputs": [],
   "source": [
    "xml2triplet_kaz('Kaz_fw.xml')"
   ]
  },
  {
   "cell_type": "markdown",
   "id": "6331bfdf",
   "metadata": {},
   "source": [
    "# Wes"
   ]
  },
  {
   "cell_type": "code",
   "execution_count": 19,
   "id": "c524d788",
   "metadata": {},
   "outputs": [],
   "source": [
    "cnv_dct = {'ɔ': 'o',\n",
    "            'u': 'ʉ',\n",
    "            'o': 'u',\n",
    "            'ǫ': 'ɵ',\n",
    "            'ł': 'λ',\n",
    "            'x': 'χ'}\n",
    "def conv(text):\n",
    "    new_text = ''\n",
    "    for sym in text:\n",
    "        if sym in cnv_dct.keys():\n",
    "            new_text += cnv_dct[sym]\n",
    "        else:\n",
    "            new_text += sym\n",
    "    return new_text"
   ]
  },
  {
   "cell_type": "code",
   "execution_count": 20,
   "id": "6e23d161",
   "metadata": {},
   "outputs": [],
   "source": [
    "def xml2triplet_wes(filename):\n",
    "    \n",
    "    with open(filename, 'r', encoding='utf-8') as f: # reading the FW output XML file\n",
    "        content = f.read()\n",
    "    \n",
    "    tree = BeautifulSoup(content, 'xml') # parsing via BS\n",
    "    \n",
    "    triplets = []\n",
    "    for text in tree.find_all('interlinear-text'): # finding texts, getting rid of non-Kazym ones\n",
    "        \n",
    "        if text.find('item', {'type': 'title-abbreviation'}).text.split('_')[-1] == 'kazym':\n",
    "            for sent in text.find_all('words'): # finding sentences\n",
    "                for word in sent.find_all('word'): #finding words\n",
    "                    if word.find('item').attrs['type'] == 'punct': # skipping punctuation\n",
    "                        continue\n",
    "                    word_form = word.find('item', {'type': 'txt', 'lang': 'kca'}).text # finding the wordform\n",
    "                    \n",
    "                    if not word.find('morphemes'):\n",
    "                        triplets.append({'lemma': '', 'word_form': conv(word_form), 'tags': ''})\n",
    "                        continue\n",
    "                    \n",
    "                    tags = []\n",
    "                    morphology = word.find('morphemes') # finding morphemes\n",
    "                    for morpheme in morphology.find_all('morph'):\n",
    "                        if morpheme.attrs and morpheme.attrs['type'] in ['circumfix', 'prefix', 'suffix', 'enclitic']: \n",
    "                            # affix glosses are taken as tags\n",
    "                            gloss = morpheme.find('item', {'type': 'gls'})\n",
    "                            if gloss:\n",
    "                                tags.append(gloss.text.lower())\n",
    "                        else:\n",
    "                            # stems are taken as lemmas\n",
    "                            lemma = morpheme.find('item', {'type': 'txt'}).text\n",
    "                            pos = morpheme.find('item', {'type': 'msa'})\n",
    "                            if pos:\n",
    "                                tags.append(pos.text)\n",
    "\n",
    "                    triplets.append({'lemma': conv(lemma), 'word_form': conv(word_form), 'tags': ';'.join(tags)}) # forming a dictionary\n",
    "    # turning a list of dicts into the set of rows appropriate for UniMorph tagging\n",
    "    Unique_rows = {f\"{triplet['lemma']}\\t{triplet['word_form']}\\t{triplet['tags']}\" for triplet in triplets}\n",
    "    \n",
    "    with open(f'{filename}_unidraft.tsv', 'w', encoding='utf-8') as f: # creating a file with the result\n",
    "        f.write('\\n'.join(sorted(Unique_rows)))"
   ]
  },
  {
   "cell_type": "code",
   "execution_count": 21,
   "id": "7ef8a38f",
   "metadata": {},
   "outputs": [],
   "source": [
    "xml2triplet_wes('Wes_fw.xml')"
   ]
  }
 ],
 "metadata": {
  "kernelspec": {
   "display_name": "Python 3 (ipykernel)",
   "language": "python",
   "name": "python3"
  },
  "language_info": {
   "codemirror_mode": {
    "name": "ipython",
    "version": 3
   },
   "file_extension": ".py",
   "mimetype": "text/x-python",
   "name": "python",
   "nbconvert_exporter": "python",
   "pygments_lexer": "ipython3",
   "version": "3.9.12"
  }
 },
 "nbformat": 4,
 "nbformat_minor": 5
}
