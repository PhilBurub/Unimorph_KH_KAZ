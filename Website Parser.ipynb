{
 "cells": [
  {
   "cell_type": "code",
   "execution_count": 139,
   "id": "b1c13377",
   "metadata": {},
   "outputs": [],
   "source": [
    "import requests\n",
    "from bs4 import BeautifulSoup\n",
    "import json"
   ]
  },
  {
   "cell_type": "code",
   "execution_count": 127,
   "id": "6415fa94",
   "metadata": {},
   "outputs": [],
   "source": [
    "def parse_page(html):\n",
    "    triplets = []\n",
    "    parsed = BeautifulSoup(html.text)\n",
    "    for table in parsed.find_all('table', {'class': 'table_arr2table_new_glossed_text'}):\n",
    "        for word in table.find_all('table'):\n",
    "            word_form = word.find_all('td')[0].text\n",
    "            stem = word.find_all('td')[2].text.split('-')[0]\n",
    "            tags = [word.find_all('td')[4].text.split('-')[0]]\n",
    "            tags.extend(word.find_all('td')[3].text.split('-')[1:])\n",
    "            triplets.append({'lemma': stem, 'word_form': word_form, 'tags': ';'.join(tags)})\n",
    "    return triplets"
   ]
  },
  {
   "cell_type": "code",
   "execution_count": 128,
   "id": "1163ad4a",
   "metadata": {},
   "outputs": [],
   "source": [
    "def get_html(link):\n",
    "    page = requests.get(url=link)\n",
    "    page.encoding = 'utf=8'\n",
    "    parsed = BeautifulSoup(page.text)\n",
    "    triplets = []\n",
    "    for text in parsed.find_all('a', {'target': '_blank'}):\n",
    "        text_link = 'http://www.babel.gwi.uni-muenchen.de/' + text.attrs['href'].replace('view_corpus_file_new', 'view_glossed_corpus')\n",
    "        text_page = requests.get(url=text_link)\n",
    "        text_page.encoding = 'utf=8'\n",
    "        triplets.extend(parse_page(text_page))\n",
    "    return triplets"
   ]
  },
  {
   "cell_type": "code",
   "execution_count": 129,
   "id": "4e08ce1f",
   "metadata": {},
   "outputs": [],
   "source": [
    "triplets = get_html('http://www.babel.gwi.uni-muenchen.de/index.php?abfrage=KK_corpus&subnavi=corpus_pub')"
   ]
  },
  {
   "cell_type": "code",
   "execution_count": 130,
   "id": "b4435443",
   "metadata": {},
   "outputs": [
    {
     "data": {
      "text/plain": [
       "83090"
      ]
     },
     "execution_count": 130,
     "metadata": {},
     "output_type": "execute_result"
    }
   ],
   "source": [
    "len(triplets)"
   ]
  },
  {
   "cell_type": "code",
   "execution_count": 143,
   "id": "135e9401",
   "metadata": {},
   "outputs": [],
   "source": [
    "with open('website_parsed.json', 'w', encoding='utf-8') as f:\n",
    "    json.dump(triplets, f, indent='\\t', ensure_ascii=False)"
   ]
  }
 ],
 "metadata": {
  "kernelspec": {
   "display_name": "Python 3 (ipykernel)",
   "language": "python",
   "name": "python3"
  },
  "language_info": {
   "codemirror_mode": {
    "name": "ipython",
    "version": 3
   },
   "file_extension": ".py",
   "mimetype": "text/x-python",
   "name": "python",
   "nbconvert_exporter": "python",
   "pygments_lexer": "ipython3",
   "version": "3.9.12"
  }
 },
 "nbformat": 4,
 "nbformat_minor": 5
}
